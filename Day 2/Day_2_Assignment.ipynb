{
  "nbformat": 4,
  "nbformat_minor": 0,
  "metadata": {
    "colab": {
      "name": "Day 2 Assignment.ipynb",
      "provenance": [],
      "collapsed_sections": [],
      "toc_visible": true
    },
    "kernelspec": {
      "name": "python3",
      "display_name": "Python 3"
    }
  },
  "cells": [
    {
      "cell_type": "code",
      "metadata": {
        "id": "Y28BJkCOo05i"
      },
      "source": [
        ""
      ],
      "execution_count": null,
      "outputs": []
    },
    {
      "cell_type": "markdown",
      "metadata": {
        "id": "l-lvJgGVCT_d"
      },
      "source": [
        "## Question - 1:\n",
        "\n",
        "#### Create an empty list. Accept 10 numbers from the user and append to it the list if it is an even number."
      ]
    },
    {
      "cell_type": "code",
      "metadata": {
        "id": "0MtdHExjo3xj",
        "outputId": "164b9814-f94c-4930-f43b-8bdf85e4c02d",
        "colab": {
          "base_uri": "https://localhost:8080/"
        }
      },
      "source": [
        "# creating a empty list\n",
        "lst = []\n",
        "\n",
        "\n",
        "# getting 10 values from user\n",
        "for i in range(0,10):\n",
        "    x = int(input(\"\\nEnter the value : \"))\n",
        "    lst.append(x)\n",
        "    \n",
        "# creating a empty list to append event numbers\n",
        "even_lst = []\n",
        "\n",
        "# appending only even numbers\n",
        "for i in lst:\n",
        "    if(i%2==0):\n",
        "        even_lst.append(i)\n",
        "        \n",
        "print(\"\\nThe even list\",even_lst)\n"
      ],
      "execution_count": 17,
      "outputs": [
        {
          "output_type": "stream",
          "text": [
            "\n",
            "Enter the value : 1\n",
            "\n",
            "Enter the value : 2\n",
            "\n",
            "Enter the value : 3\n",
            "\n",
            "Enter the value : 4\n",
            "\n",
            "Enter the value : 5\n",
            "\n",
            "Enter the value : 6\n",
            "\n",
            "Enter the value : 7\n",
            "\n",
            "Enter the value : 8\n",
            "\n",
            "Enter the value : 9\n",
            "\n",
            "Enter the value : 10\n",
            "\n",
            "The even list [2, 4, 6, 8, 10]\n"
          ],
          "name": "stdout"
        }
      ]
    },
    {
      "cell_type": "code",
      "metadata": {
        "id": "iXsUyD56nf1d"
      },
      "source": [
        ""
      ],
      "execution_count": null,
      "outputs": []
    },
    {
      "cell_type": "markdown",
      "metadata": {
        "id": "Iuu9BcU6o7CH"
      },
      "source": [
        "## Question - 2\n",
        "\n",
        "#### Create a notebook on LIST COMPREHENSION. This exercise is to put you in a Self learning mode"
      ]
    },
    {
      "cell_type": "markdown",
      "metadata": {
        "id": "uTYqBRzssZwh"
      },
      "source": [
        "#### List comprehensions are used for creating new lists from other iterables.\n",
        "\n",
        "#### As list comprehensions return lists, they consist of brackets containing the expression, which is executed for each element along with the for loop to iterate over each element.\n",
        "\n",
        "### Syntax:\n",
        "\n",
        "#### new_list = (value for_loop condition)\n",
        "\n",
        "### Example:"
      ]
    },
    {
      "cell_type": "code",
      "metadata": {
        "id": "ZbVJG91lsw2x",
        "outputId": "85f020ee-e874-445b-cdcd-7e68a557bd7f",
        "colab": {
          "base_uri": "https://localhost:8080/"
        }
      },
      "source": [
        "# creating a list\n",
        "lst = [1, 2, 3, 4, 5, 6, 7, 8]\n",
        "\n",
        "# list comprehensions\n",
        "even_lst = [i for i in lst if i%2==0 ]\n",
        "\n",
        "print(even_lst)\n",
        "\n"
      ],
      "execution_count": 21,
      "outputs": [
        {
          "output_type": "stream",
          "text": [
            "[2, 4, 6, 8]\n"
          ],
          "name": "stdout"
        }
      ]
    },
    {
      "cell_type": "code",
      "metadata": {
        "id": "95S3hI5ze8Va"
      },
      "source": [
        ""
      ],
      "execution_count": 21,
      "outputs": []
    },
    {
      "cell_type": "markdown",
      "metadata": {
        "id": "LXS3gu0wgcJb"
      },
      "source": [
        "## Question - 3:\n",
        "\n",
        "#### Given a number n, you have to write a program that generates a dictionary d which contains (i, i*i), where i is from 1 to n (both included)."
      ]
    },
    {
      "cell_type": "code",
      "metadata": {
        "id": "A-mc68nxghPe",
        "outputId": "41b8020f-09ed-454c-f07e-a1dc75aac070",
        "colab": {
          "base_uri": "https://localhost:8080/"
        }
      },
      "source": [
        "# creating a empty dict\n",
        "dict = {}\n",
        "\n",
        "#  getting value for \"n\" from user\n",
        "n = int(input())\n",
        "\n",
        "for i in range(1,n+1):\n",
        "  dict[i] = i*i\n",
        "\n",
        "print(dict)\n",
        "\n"
      ],
      "execution_count": 23,
      "outputs": [
        {
          "output_type": "stream",
          "text": [
            "8\n",
            "{1: 1, 2: 4, 3: 9, 4: 16, 5: 25, 6: 36, 7: 49, 8: 64}\n"
          ],
          "name": "stdout"
        }
      ]
    },
    {
      "cell_type": "code",
      "metadata": {
        "id": "-5C5Io-OkV0s"
      },
      "source": [
        ""
      ],
      "execution_count": null,
      "outputs": []
    },
    {
      "cell_type": "markdown",
      "metadata": {
        "id": "SUeCpqiIkK-b"
      },
      "source": [
        "## Question - 4:\n",
        "\n",
        "#### Write a program to compute the distance between the current position after a sequence of movement and original point. If the distance is a float, then just print the nearest integer (use round() function for that and then convert it into an integer)."
      ]
    },
    {
      "cell_type": "code",
      "metadata": {
        "id": "9y52Rwh9hC5L",
        "outputId": "61d05a26-8c09-462b-eeab-f601c1ac53a9",
        "colab": {
          "base_uri": "https://localhost:8080/"
        }
      },
      "source": [
        "#  creating a origin position\n",
        "pos = {\"x\":0,\"y\":0}\n",
        "\n",
        "# getting movement from user\n",
        "n = int(input())\n",
        "\n",
        "# for loop\n",
        "for i in range (n):\n",
        "    move =  input().split(\" \")      # ACCEPT MOVEMENT COMMAND AND STORE AS A LIST\n",
        "    \n",
        "    if move[0].lower() == \"up\":     # EXTRACT DIRECTION AND COMPARE\n",
        "        pos[\"y\"] += int(move[1])    # INCREMENT/DECREMENT APPROPRIATE CO-ORDINATES\n",
        "    \n",
        "    elif move[0].lower() == \"down\":\n",
        "        pos[\"y\"] -= int(move[1])\n",
        "    \n",
        "    elif move[0].lower() == \"left\":\n",
        "        pos[\"x\"] -= int(move[1])\n",
        "    \n",
        "    elif move[0].lower() == \"right\":\n",
        "        pos[\"x\"] += int(move[1])\n",
        "\n",
        "#  printing the result\n",
        "\n",
        "print(int(round((pos[\"x\"]**2 + pos[\"y\"]**2)**0.5)))   # DISTANCE FROM ORIGIN\n"
      ],
      "execution_count": 28,
      "outputs": [
        {
          "output_type": "stream",
          "text": [
            "4\n",
            "UP 5\n",
            "DOWN 3\n",
            "LEFT 3\n",
            "RIGHT 2\n",
            "2\n"
          ],
          "name": "stdout"
        }
      ]
    },
    {
      "cell_type": "code",
      "metadata": {
        "id": "o07qezARjORu"
      },
      "source": [
        ""
      ],
      "execution_count": null,
      "outputs": []
    },
    {
      "cell_type": "code",
      "metadata": {
        "id": "KP4hiF-9lapO"
      },
      "source": [
        ""
      ],
      "execution_count": null,
      "outputs": []
    }
  ]
}