{
  "nbformat": 4,
  "nbformat_minor": 0,
  "metadata": {
    "colab": {
      "name": "Day 3 Assignment.ipynb",
      "provenance": [],
      "collapsed_sections": []
    },
    "kernelspec": {
      "name": "python3",
      "display_name": "Python 3"
    }
  },
  "cells": [
    {
      "cell_type": "code",
      "metadata": {
        "id": "Y28BJkCOo05i"
      },
      "source": [
        ""
      ],
      "execution_count": null,
      "outputs": []
    },
    {
      "cell_type": "markdown",
      "metadata": {
        "id": "l-lvJgGVCT_d"
      },
      "source": [
        "## Question - 1:\n",
        "\n",
        "#### Create a numpy array starting from 2 till 50 with a stepsize of 3."
      ]
    },
    {
      "cell_type": "code",
      "metadata": {
        "id": "0MtdHExjo3xj",
        "outputId": "fb8f7d34-0642-433e-a118-9f9fe4c5a9d7",
        "colab": {
          "base_uri": "https://localhost:8080/"
        }
      },
      "source": [
        "# importing numpy with alias name\n",
        "import numpy as np\n",
        "\n",
        "# creating a array using numpy arange\n",
        "arr = np.arange(2, 50, 3)\n",
        "\n",
        "# printing array\n",
        "print(arr)"
      ],
      "execution_count": 1,
      "outputs": [
        {
          "output_type": "stream",
          "text": [
            "[ 2  5  8 11 14 17 20 23 26 29 32 35 38 41 44 47]\n"
          ],
          "name": "stdout"
        }
      ]
    },
    {
      "cell_type": "code",
      "metadata": {
        "id": "iXsUyD56nf1d"
      },
      "source": [
        ""
      ],
      "execution_count": null,
      "outputs": []
    },
    {
      "cell_type": "markdown",
      "metadata": {
        "id": "Iuu9BcU6o7CH"
      },
      "source": [
        "## Question - 2\n",
        "\n",
        "#### Accept two lists of 5 elements each from the user. Convert them to numpy arrays. Concatenate these arrays and print it. Also sort these arrays and print it."
      ]
    },
    {
      "cell_type": "code",
      "metadata": {
        "id": "ZbVJG91lsw2x",
        "outputId": "3a01351a-b05e-45a9-ce6d-91e91ebe1dbd",
        "colab": {
          "base_uri": "https://localhost:8080/"
        }
      },
      "source": [
        "# importing numpy with alias name\n",
        "import numpy as np\n",
        "\n",
        "# creating a 2 empty list:\n",
        "lst_1 = []\n",
        "lst_2 = []\n",
        "\n",
        "# getting values for lst_1 from user:\n",
        "for i in range(5):\n",
        "  x=int(input(\"\\nEnter the value for lst_1 : \"))\n",
        "  lst_1.append(x)\n",
        "\n",
        "# getting values for lst_2 from user:\n",
        "for i in range(5):\n",
        "  x=int(input(\"\\nEnter the value for lst_2 : \"))\n",
        "  lst_2.append(x)\n",
        "\n",
        "# converting list into array:\n",
        "arr_1 = np.array(lst_1)\n",
        "arr_2 = np.array(lst_2)\n",
        "\n",
        "# concatenating 2 array:\n",
        "arr = np.concatenate((arr_1, arr_2))\n",
        "print(\"\\nArray value for concatenated arr :\",arr)\n",
        "\n",
        "# sorting up concatenated array\n",
        "sortArr = np.sort(arr)\n",
        "print(\"\\nSorted Array for concatenated arr :\",sortArr)\n",
        "\n",
        "\n"
      ],
      "execution_count": 4,
      "outputs": [
        {
          "output_type": "stream",
          "text": [
            "\n",
            "Enter the value for lst_1 : 1\n",
            "\n",
            "Enter the value for lst_1 : 0\n",
            "\n",
            "Enter the value for lst_1 : 9\n",
            "\n",
            "Enter the value for lst_1 : 2\n",
            "\n",
            "Enter the value for lst_1 : 8\n",
            "\n",
            "Enter the value for lst_2 : 3\n",
            "\n",
            "Enter the value for lst_2 : 4\n",
            "\n",
            "Enter the value for lst_2 : 7\n",
            "\n",
            "Enter the value for lst_2 : 6\n",
            "\n",
            "Enter the value for lst_2 : 5\n",
            "\n",
            "Array value for concatenated arr : [1 0 9 2 8 3 4 7 6 5]\n",
            "\n",
            "Sorted Array for concatenated arr : [0 1 2 3 4 5 6 7 8 9]\n"
          ],
          "name": "stdout"
        }
      ]
    },
    {
      "cell_type": "code",
      "metadata": {
        "id": "95S3hI5ze8Va"
      },
      "source": [
        ""
      ],
      "execution_count": null,
      "outputs": []
    },
    {
      "cell_type": "markdown",
      "metadata": {
        "id": "LXS3gu0wgcJb"
      },
      "source": [
        "## Question - 3:\n",
        "\n",
        "#### Write a code snippet to find the dimensions of a ndarray and its size."
      ]
    },
    {
      "cell_type": "markdown",
      "metadata": {
        "id": "PAoJSV4D9qbn"
      },
      "source": [
        "#### snippet for finding dimension:\n",
        "\n",
        "ArrayName.ndim\n",
        "\n",
        "#### snippet for finding size:\n",
        "\n",
        "ArrayName.size\n"
      ]
    },
    {
      "cell_type": "code",
      "metadata": {
        "id": "A-mc68nxghPe",
        "outputId": "114272d9-efc5-41d3-ee1b-ba0307e468ba",
        "colab": {
          "base_uri": "https://localhost:8080/"
        }
      },
      "source": [
        "# importing numpy\n",
        "import numpy as np\n",
        "\n",
        "# creating a 2d array\n",
        "arr = np.array([[1,2,3],[1,3,5]])\n",
        "\n",
        "# Printing array dimensions (axes)\n",
        "print(\"\\nDimensions in array : \", arr.ndim)\n",
        " \n",
        "# Printing size of array\n",
        "print(\"\\nSize of array : \", arr.size)\n",
        "\n",
        "\n"
      ],
      "execution_count": 3,
      "outputs": [
        {
          "output_type": "stream",
          "text": [
            "\n",
            "Dimensions in array :  2\n",
            "\n",
            "Size of array :  6\n"
          ],
          "name": "stdout"
        }
      ]
    },
    {
      "cell_type": "code",
      "metadata": {
        "id": "-5C5Io-OkV0s"
      },
      "source": [
        ""
      ],
      "execution_count": null,
      "outputs": []
    },
    {
      "cell_type": "markdown",
      "metadata": {
        "id": "SUeCpqiIkK-b"
      },
      "source": [
        "## Question - 4:\n",
        "\n",
        "#### How to convert a 1D array into a 2D array? Demonstrate with the help of a code snippet\n",
        "##### Hint: np.newaxis, np.expand_dims"
      ]
    },
    {
      "cell_type": "markdown",
      "metadata": {
        "id": "5XQbYiU7G425"
      },
      "source": [
        "### newaxis snippet:\n",
        "\n",
        "ArrayName[numpy.newaxis, :] // row major\n",
        "\n",
        "ArrayName[:, numpy.newaxis] // column major"
      ]
    },
    {
      "cell_type": "code",
      "metadata": {
        "id": "9y52Rwh9hC5L",
        "outputId": "789a4f54-7ced-44e3-9b26-97613131cdf0",
        "colab": {
          "base_uri": "https://localhost:8080/"
        }
      },
      "source": [
        "# importing numpy\n",
        "import numpy as np\n",
        "\n",
        "# creating a 1d array\n",
        "arr = np.arange(10)\n",
        "print(\"\\nShape of Array :\",arr.shape)\n",
        "\n",
        "# converting using newaxis in row wise\n",
        "row_arr = arr[np.newaxis, :]\n",
        "print(\"\\nShape of 2d Array in row major :\",row_arr.shape)\n",
        "\n",
        "# converting using newaxis in column wise\n",
        "col_arr = arr[:, np.newaxis]\n",
        "print(\"\\nShape of 2d Array in column major :\",col_arr.shape)\n"
      ],
      "execution_count": 7,
      "outputs": [
        {
          "output_type": "stream",
          "text": [
            "\n",
            "Shape of Array : (10,)\n",
            "\n",
            "Shape of 2d Array in row major : (1, 10)\n",
            "\n",
            "Shape of 2d Array in column major : (10, 1)\n"
          ],
          "name": "stdout"
        }
      ]
    },
    {
      "cell_type": "code",
      "metadata": {
        "id": "o07qezARjORu"
      },
      "source": [
        ""
      ],
      "execution_count": null,
      "outputs": []
    },
    {
      "cell_type": "markdown",
      "metadata": {
        "id": "861Ag-19KT6W"
      },
      "source": [
        "### expand_dims snippet:\n",
        "\n",
        "numpy.expand_dims(ArrayName, axis = 0) // row major\n",
        "\n",
        "numpy.expand_dims(ArrayName, axis = 1) // column major"
      ]
    },
    {
      "cell_type": "code",
      "metadata": {
        "id": "KP4hiF-9lapO",
        "outputId": "3a12bef6-3f2c-4706-ab03-7a8f51955525",
        "colab": {
          "base_uri": "https://localhost:8080/"
        }
      },
      "source": [
        "# importing numpy\n",
        "import numpy as np\n",
        "\n",
        "# creating a 1d array\n",
        "arr = np.arange(10)\n",
        "print(\"\\nShape of Array :\",arr.shape)\n",
        "\n",
        "# converting using newaxis in row wise\n",
        "row_arr = np.expand_dims(arr, axis=0)\n",
        "print(\"\\nShape of 2d Array in row major :\",row_arr.shape)\n",
        "\n",
        "# converting using newaxis in column wise\n",
        "col_arr = np.expand_dims(arr, axis=1)\n",
        "print(\"\\nShape of 2d Array in column major :\",col_arr.shape)"
      ],
      "execution_count": 9,
      "outputs": [
        {
          "output_type": "stream",
          "text": [
            "\n",
            "Shape of Array : (10,)\n",
            "\n",
            "Shape of 2d Array in row major : (1, 10)\n",
            "\n",
            "Shape of 2d Array in column major : (10, 1)\n"
          ],
          "name": "stdout"
        }
      ]
    },
    {
      "cell_type": "code",
      "metadata": {
        "id": "6WSK3fF1K4rc"
      },
      "source": [
        ""
      ],
      "execution_count": 9,
      "outputs": []
    },
    {
      "cell_type": "markdown",
      "metadata": {
        "id": "WrQzooVRLcox"
      },
      "source": [
        "## Question - 5:\n",
        "\n",
        "#### Consider two square numpy arrays. Stack them vertically and horizontally.\n",
        "\n",
        "##### Hint: Use vstack(), hstack()"
      ]
    },
    {
      "cell_type": "code",
      "metadata": {
        "id": "yIvVbspoLkL3",
        "outputId": "b289b959-9126-4ecc-8f9e-95911779814d",
        "colab": {
          "base_uri": "https://localhost:8080/"
        }
      },
      "source": [
        "# importing numpy\n",
        "import numpy as np\n",
        "\n",
        "# creating a array with square values\n",
        "arr_1 = np.array([1, 4, 9, 16, 25])\n",
        "arr_2 = np.array([36, 49, 64, 81, 100])\n",
        "\n",
        "# stacking and printing the value\n",
        "print(\"\\nHorizontal Append :\", np.hstack((arr_1, arr_2)))\n",
        "print(\"\\nVertical Append :\", np.vstack((arr_1, arr_2)))\n",
        "\n"
      ],
      "execution_count": 11,
      "outputs": [
        {
          "output_type": "stream",
          "text": [
            "\n",
            "Horizontal Append : [  1   4   9  16  25  36  49  64  81 100]\n",
            "\n",
            "Vertical Append : [[  1   4   9  16  25]\n",
            " [ 36  49  64  81 100]]\n"
          ],
          "name": "stdout"
        }
      ]
    },
    {
      "cell_type": "code",
      "metadata": {
        "id": "1XcixDsRLi7Y"
      },
      "source": [
        ""
      ],
      "execution_count": null,
      "outputs": []
    },
    {
      "cell_type": "markdown",
      "metadata": {
        "id": "RRj09BcYM22m"
      },
      "source": [
        "## Question - 6:\n",
        "\n",
        "##### How to get unique items and counts of unique items?\n",
        "\n",
        "unique method in numpy is used to get the unique values from the list and return count attribute of unique method return the count of unique value from the list."
      ]
    },
    {
      "cell_type": "code",
      "metadata": {
        "id": "D_L6jirvOIzZ",
        "outputId": "9d02d835-74ec-4a12-c8e9-55b20cc935ea",
        "colab": {
          "base_uri": "https://localhost:8080/"
        }
      },
      "source": [
        "# importing numpy\n",
        "import numpy as np\n",
        "\n",
        "# creating a array \n",
        "arr_1 = np.array([1, 4, 9, 16, 25, 1, 4, 2, 3, 2, 5, 6, 5, 7, 8, 10])\n",
        "\n",
        "# getting unique charater and its count\n",
        "unique, counts = np.unique(arr_1, return_counts=True)\n",
        "\n",
        "# making a \n",
        "arr = np.asarray((unique, counts)).T\n",
        "\n",
        "print(arr)\n"
      ],
      "execution_count": 20,
      "outputs": [
        {
          "output_type": "stream",
          "text": [
            "[[ 1  2]\n",
            " [ 2  2]\n",
            " [ 3  1]\n",
            " [ 4  2]\n",
            " [ 5  2]\n",
            " [ 6  1]\n",
            " [ 7  1]\n",
            " [ 8  1]\n",
            " [ 9  1]\n",
            " [10  1]\n",
            " [16  1]\n",
            " [25  1]]\n"
          ],
          "name": "stdout"
        }
      ]
    },
    {
      "cell_type": "code",
      "metadata": {
        "id": "r1Ci2n2LOguj"
      },
      "source": [
        ""
      ],
      "execution_count": null,
      "outputs": []
    }
  ]
}