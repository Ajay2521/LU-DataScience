{
  "nbformat": 4,
  "nbformat_minor": 0,
  "metadata": {
    "colab": {
      "name": "Day 1 Assignment .ipynb",
      "provenance": []
    },
    "kernelspec": {
      "name": "python3",
      "display_name": "Python 3"
    }
  },
  "cells": [
    {
      "cell_type": "markdown",
      "metadata": {
        "id": "Y28BJkCOo05i"
      },
      "source": [
        "## Question - 1\n",
        "\n",
        "Given the following jumbled word, OBANWRI guess the correct English word. \n",
        "\n",
        "A. RANIBOW \n",
        "\n",
        "B. RAINBOW \n",
        "\n",
        "C. BOWRANI \n",
        "\n",
        "D. ROBWANI"
      ]
    },
    {
      "cell_type": "markdown",
      "metadata": {
        "id": "0MtdHExjo3xj"
      },
      "source": [
        "## Answer : B. RAINBOW"
      ]
    },
    {
      "cell_type": "code",
      "metadata": {
        "id": "Iuu9BcU6o7CH"
      },
      "source": [
        ""
      ],
      "execution_count": null,
      "outputs": []
    },
    {
      "cell_type": "markdown",
      "metadata": {
        "id": "uTYqBRzssZwh"
      },
      "source": [
        "## Question - 2\n",
        "\n",
        "#### Write a program which prints “LETS UPGRADE”. (Please note that you have to print in ALL CAPS as given)"
      ]
    },
    {
      "cell_type": "code",
      "metadata": {
        "id": "ZbVJG91lsw2x",
        "outputId": "3ee89508-01f2-4cc3-f757-03d49d512c68",
        "colab": {
          "base_uri": "https://localhost:8080/"
        }
      },
      "source": [
        "print(\"LETS UPGRADE\")"
      ],
      "execution_count": 1,
      "outputs": [
        {
          "output_type": "stream",
          "text": [
            "LETS UPGRADE\n"
          ],
          "name": "stdout"
        }
      ]
    },
    {
      "cell_type": "code",
      "metadata": {
        "id": "qoLOBNPp2SPg"
      },
      "source": [
        ""
      ],
      "execution_count": 1,
      "outputs": []
    },
    {
      "cell_type": "markdown",
      "metadata": {
        "id": "yeWLmhkT2atP"
      },
      "source": [
        "## Question - 3\n",
        "\n",
        "#### Write a program that takes cost price and selling price as input and displays whether the transaction is a Profit or a Loss or Neither"
      ]
    },
    {
      "cell_type": "code",
      "metadata": {
        "id": "Pxv-ym4y2fE3",
        "outputId": "9d5ea25a-02a8-4413-9649-7e15252aa259",
        "colab": {
          "base_uri": "https://localhost:8080/"
        }
      },
      "source": [
        "# getting cost_price and selling_price from user\n",
        "cost_price = int(input())\n",
        "selling_price = int(input())\n",
        "\n",
        "# condition for checking profit or loss or neither using if-elif statement\n",
        "if cost_price<selling_price:\n",
        "    print(\"Profit\")\n",
        "\n",
        "elif cost_price>selling_price:\n",
        "    print(\"Loss\")\n",
        "    \n",
        "else:\n",
        "    print(\"Neither\")"
      ],
      "execution_count": 2,
      "outputs": [
        {
          "output_type": "stream",
          "text": [
            "20\n",
            "30\n",
            "Profit\n"
          ],
          "name": "stdout"
        }
      ]
    },
    {
      "cell_type": "code",
      "metadata": {
        "id": "hJU-ijPw2mDu"
      },
      "source": [
        ""
      ],
      "execution_count": null,
      "outputs": []
    },
    {
      "cell_type": "markdown",
      "metadata": {
        "id": "43adCdqj2q4T"
      },
      "source": [
        "## Question - 4\n",
        "\n",
        "#### Write a program that takes an amount in Euros as input. You need to find its equivalent in Rupees and display it. Assume 1 Euro equals Rs. 80"
      ]
    },
    {
      "cell_type": "code",
      "metadata": {
        "id": "SiRdsWue22JX",
        "outputId": "4b6e982f-cb20-4f0d-a0d5-a3d9a2541510",
        "colab": {
          "base_uri": "https://localhost:8080/"
        }
      },
      "source": [
        "# getting value of euro from user\n",
        "euro = int(input())\n",
        "\n",
        "# converting the euro into rupees by assuming 1 euro = Rs.80\n",
        "rupees = euro * 80\n",
        "\n",
        "# printing the value after converting euro to rupees\n",
        "print(rupees)"
      ],
      "execution_count": 3,
      "outputs": [
        {
          "output_type": "stream",
          "text": [
            "20\n",
            "1600\n"
          ],
          "name": "stdout"
        }
      ]
    },
    {
      "cell_type": "code",
      "metadata": {
        "id": "FCCnjq_53A4x"
      },
      "source": [
        ""
      ],
      "execution_count": 3,
      "outputs": []
    },
    {
      "cell_type": "code",
      "metadata": {
        "id": "gf96WPdN3FcF"
      },
      "source": [
        ""
      ],
      "execution_count": null,
      "outputs": []
    }
  ]
}